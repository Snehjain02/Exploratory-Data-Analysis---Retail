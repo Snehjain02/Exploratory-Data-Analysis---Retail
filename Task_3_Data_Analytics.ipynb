THE SPARKS FOUNDATION
Task 3 - Exploratory Data Analysis - Retail
Highlighted points for this task :-
Perform ‘Exploratory Data Analysis’ on dataset ‘SampleSuperstore’

As a business manager, try to find out the weak areas where you can work to make more profit.

What all business problems you can derive by exploring the data?

Data Source : -
https://www.kaggle.com/bravehart101/sample-supermarket-dataset/version/1

Author - Deepak Kaura (DK)
import numpy as np 
import pandas as pd 
import matplotlib.pyplot as plt
import seaborn as sns
import plotly.express as px
import plotly.graph_objects as go
from plotly.subplots import make_subplots
from pywaffle import Waffle
# Now, let us import the dataset.

df=pd.read_csv('SampleSuperstore.csv')
df.head()
print('Total rows:', df.shape[0])
print('Total columns:', df.shape[1])
Data Cleaning
Now, we will clean our dataset, removing all the unnecessary null values in the data. As the first step, let us check for any null values within the dataset.

df.isnull().sum(axis = 0).to_frame()
It seems there are no null values in our dataset. Now, let's check the data types of each column.

df.dtypes.to_frame()
Since we will be working with some geographical plots, let's map the state names to state codes.

state_code = {'Alabama': 'AL','Alaska': 'AK','Arizona': 'AZ','Arkansas': 'AR','California': 'CA','Colorado': 'CO','Connecticut': 'CT','Delaware': 'DE','Florida': 'FL','Georgia': 'GA','Hawaii': 'HI','Idaho': 'ID','Illinois': 'IL','Indiana': 'IN','Iowa': 'IA','Kansas': 'KS','Kentucky': 'KY','Louisiana': 'LA','Maine': 'ME','Maryland': 'MD','Massachusetts': 'MA','Michigan': 'MI','Minnesota': 'MN','Mississippi': 'MS','Missouri': 'MO','Montana': 'MT','Nebraska': 'NE','Nevada': 'NV','New Hampshire': 'NH','New Jersey': 'NJ','New Mexico': 'NM','New York': 'NY','North Carolina': 'NC','North Dakota': 'ND','Ohio': 'OH','Oklahoma': 'OK','Oregon': 'OR','Pennsylvania': 'PA','Rhode Island': 'RI','South Carolina': 'SC','South Dakota': 'SD','Tennessee': 'TN','Texas': 'TX','Utah': 'UT','Vermont': 'VT','Virginia': 'VA','District of Columbia': 'WA','Washington': 'WA','West Virginia': 'WV','Wisconsin': 'WI','Wyoming': 'WY'}
df['state_code'] = df.State.apply(lambda x: state_code[x])
It seems our data already pre-processed and requires no further cleaning. We can move on to performing EDA task.

Exploratory Data Analysis
Now, we will perform EDA on our dataset, with an aim to uncover the hidden trends within the data which might help the superstore to increase their profits.

First, let's have a look at the total sales per state and the revenue generated.

state_data = df[['Sales', 'Profit', 'state_code']].groupby(['state_code']).sum()


fig = go.Figure(data=go.Choropleth(
    locations=state_data.index, 
    z = state_data.Sales, 
    locationmode = 'USA-states', 
    colorscale = 'Reds',
    colorbar_title = 'Sales in USD',
))

fig.update_layout(
    title_text = 'Total State-Wise Sales',
    geo_scope='usa',
    height=800,
)

fig.show()
Observations from the above given geographical plot-
(A) The company has the highest sales in the state of California (shown in dark maroon), selling around $450K of goods.

(B) New York (bright red, top right) is the state with the second highest sales, with more that $300k worth of goods sold.

(C) The states of Texas (bottommost, orange) and Washington (top left, orange) end up third and fourth on the top sales charts with around $170K and 140K in sales respectively.

(D) If we look at the overall data, we will observe that the supermarket company does most of its business in East Coast and West Coast region.

In fact, the total sales in the state of New York is more than the sales in all of the Central America combined.

fig = go.Figure(data=go.Choropleth(
    locations=state_data.index, # Spatial coordinates
    z = state_data.Profit, # Data to be color-coded
    locationmode = 'USA-states', # set of locations match entries in `locations`
    colorscale = [[0, 'rgb(255,0,0)'], [0.25, 'rgb(255,255,255)'], [0.45, 'rgb(124,208,247)'], [0.6, 'rgb(97,255,140)'], [1, 'rgb(8,181,0)']],
#     reversescale = True,
    colorbar_title = 'Profits in USD',
))

fig.update_layout(
    title_text = 'Total State-Wise Profit/Loss',
    geo_scope='usa', # limite map scope to USA
    height=600,
)

fig.show()
Observations from the above plot are:
(1) The states in shades of green, namely New York, California and Washington are the most profitable for the company, with profits of over $30K.

(2) The states in teal and blue, with an average profit of around $25K are mostly situated in the north-east and south-east region.

(3) The state of Texas, with the third highest sales proved to be the most expensive state for the company with a very high loss of around $25K.

Now, let's analyze the sales of a few random states from each profit bracket (high profit, medium profit, low profit, low loss and high loss) and try to observe some crucial trends which might help us in increasing the sales.

I have few questions to answer here.

What products do the most profit making states buy?

What products do the loss bearing states buy?

What product segment needs to be improved in order to drive the profits higher?

def state_data_viewer(states):
    """Plots the turnover generated by different product categories and sub-categories for the list of given states.
    Args:
        states- List of all the states you want the plots for
    Returns:
        None
    """
    product_data = df.groupby(['State'])
    for state in states:
        data = product_data.get_group(state).groupby(['Category'])
        fig, ax = plt.subplots(1, 3, figsize = (28,5))
        fig.suptitle(state, fontsize=14)        
        ax_index = 0
        for cat in ['Furniture', 'Office Supplies', 'Technology']:
            cat_data = data.get_group(cat).groupby(['Sub-Category']).sum()
            sns.barplot(x = cat_data.Profit, y = cat_data.index, ax = ax[ax_index])
            ax[ax_index].set_ylabel(cat)
            ax_index +=1
        fig.show()
states = ['California', 'Washington', 'Mississippi', 'Arizona', 'Texas']
state_data_viewer(states)
Observations from the above given plots:
(i) In the state of California, the highest revenue generating state for the supermarket, while all the products sold across each category are generating high-to-low profits, tables in furniture category is generating an overall loss. I verified the same with New York, the second highest revenue generating state.

(ii) Washington, has a very positive performance, with profits generating over all product categories. A few of the low performing product sub categories are- bookcases, supplies, fasteners, machines and phones. Overall, office supplies and technology categories make the most profit for the supermarket.

(iii) In the state of Mississippi, a low profit generating state, we see that the Furniture category performs slightly better than the other two categories.The Technology category performs the worst. I observed this same trend in other low profit generating states as well.

(iv) In low-loss states like Arizona, the highest loss generating sub-categories are- Tables, binders, machines, storage, and book cases.

(v) In Texas, the highest loss state, the furniture category is going entirely in loss, generating massive losses for the supermarket. The performance is soo bad that the best option for the supermarket will be to end its furniture business in the state.

In case of office supplies category, the binders (generally one of the highest revenue generating sub-category in other states) and appliances are one of the worst performers.

Now, let's analyze the sales made in each consumer segment.

data = df[['Segment', 'Sales']].groupby(['Segment']).sum()

# #To plot the waffle Chart 
fig = plt.figure( 
    FigureClass = Waffle,
    figsize=(8, 8),
    rows = 10, 
    values = data.to_numpy()/10000,
    title={'label': 'Sales in Each Customer Segment (Total ≈ $2.29 million)'.upper(), 'loc': 'left'},
    labels=["{} ({:.2f}%)".format(label, percent) for label,percent in zip(list(data.index), (data.Sales/data.Sales.sum()*100).to_numpy())],
    legend={'loc': 'lower left', 'bbox_to_anchor': (0, -0.1), 'ncol': len(data), 'framealpha': 0},
)
Observations from the plot above-
(1) Around 50% of the total sales were made in the consumer segment which comprises of the individual buyers.

(2) The Corporate sector and Home Office segments have around 31% and 19% sales respectively.

Now, let's analyze what percent of profits does each customer section makes for the supermarket.

data = df[['Segment', 'Profit']].groupby(['Segment']).sum()

#To plot the waffle Chart 
fig = plt.figure( 
    FigureClass = Waffle,
    figsize=(7, 7),
    rows = 6, 
    values = data.to_numpy()/4000,
    title={'label': 'Profits made by Each Customer Segment (Total ≈ $286K)'.upper(), 'loc': 'left'},
    labels=["{} ({:.2f}%)".format(label, percent) for label,percent in zip(list(data.index), (data.Profit/data.Profit.sum()*100).to_numpy())],
    legend={'loc': 'lower left', 'bbox_to_anchor': (0, -0.15), 'ncol': len(data), 'framealpha': 0},
)
Some interesting observations here.
(a) While the Consumer segment had more than 50% in sales, its total contribution in the profits made by the company is only around 46%. This shows that the company is bearing a higher loss in the Consumer segment.

(b) The Corporate and the Home Office segments are returning more profits to the supermarket as compared to the sales made. While their joint sales is around 50%, thier joint profits made for the supermarket is around 54%.

Here, the company can do two things in order to increase their profits. They can look into the reasons why they are bearing more losses in the consumer segment and try to reduce those losses, thus directly increasing the sales.

Other route the company can take is to providing more polished services to the Corporate and Home Office segments, thus driving them towards more profits.

Now, let's observe the prices of products across each product category and try to see how the prices are spread across each product category.

df['price_per_product'] = df.Sales / df.Quantity
df['profit_per_product'] = df.Profit / df.Quantity 

data = df.groupby(['Category'])

for cat, df in data:
    sizes = np.absolute(df.price_per_product)
    fig = px.scatter(df, x = 'price_per_product', title = cat.upper(), 
                    color = 'Sub-Category',
                    size = sizes, hover_data=['Sub-Category'])
    fig.update_layout(
        height = 500,
        xaxis = dict(title='Price Per Product'),
        yaxis = dict(title=''),
    )
    fig.show()
Observation across each product category-
1) Furnitures-

(i) If we see the average price, we'll find that most of the tables and chairs are around the $200 mark, making them one of the most expensive furniture items.Some tables go as high as USD 550 while the most expensive chair costs USD 700.

(ii) The most expensive item in the furniture category is a bookcase costing $880.

2) Office Supplies-

(i) Most office supplies fall under the $100 mark.

(ii) Binders and supplies are the most expensive categories, going as high as $1890.

3) Technology-

(i) As per the plot, products in the machines and copiers sub categories are the most expensive technology items.

(ii)Most products fall under the $200 price tag.

Now, let's have a look at how much each product generates or loses in terms of revenue.

for cat, df in data:
    sizes = np.absolute(df.profit_per_product)
    fig = px.scatter(df, x = 'profit_per_product', title = cat.upper(), 
                    color = 'Sub-Category',
                    size = sizes, hover_data=['Sub-Category'])
    fig.update_layout(
        autosize = True,
        height = 500,
        xaxis = dict(title='Profit/Loss Per Product'),
        yaxis = dict(title=''),
    )
    fig.show()
Observation across each product category-
1) Furnitures-

(I) Upon observing the plot, it is evident that tables are one of the businesses where the supermarket is losing most of its money.

(II) Book cases is another business where the supermarket is mostly just bearing losses.

(III) If we see the overall performance, chairs seem to be generating the highest profits for the supermarket.

2) Office Supplies-

(I) While binders generate most revenue for the company, it is also one of the highest-loss sub-categories in the office supplies category.

3) Technology-

(I) The company's machine sales cause the highest loss, going as high as $1300 in loss.

While the above plots gives us a rough idea regarding how and in what sub category the supermarket is losing the money, it's still now clear how each sub category is performing considering the overall data. Let's have a look at the performance of each sub category.

for cat, df in data:
    subCat = df.groupby(['Sub-Category']).sum()
    fig = px.bar(subCat, y = 'Profit', title = cat.upper(), 
                    color = subCat.index)
    fig.update_layout(
        autosize = True,
        width = 600,
        yaxis = dict(title='Profit/Loss Per Product Sub-Category'),
        xaxis = dict(title=''),
    )
    fig.show()
From the above given plots, it is clear that-
A) Tables and Bookcases are the businesses where the company is losing most of its money.

B) While the technology business is making most of the profits for the company, the machines business makes the least profit. The supermarket can improve in that sub-category.

C) Considering the combined turnover from each category, the furniture business is where the company is barely making any consideraable profit.Maybe the shipping modes and shipping costs for the furniture products, which are usually large, has something to do with the low profits/high losses.

Let's have a look at what role the various shipping modes has to play in all this.

Now, let's have a look at which shipping method different consumer segments use the most for buying products in different product categories.

ship_segment = df.groupby(['Segment'])
segment_list = df.Segment.value_counts().index
cat_list = df.Category.value_counts().index

for segment in segment_list:
    seg_shipping = ship_segment.get_group(segment)
    standard, second, first, same = [], [], [], []
    for cat in cat_list:
        count = seg_shipping.groupby(['Category']).get_group(cat)['Ship Mode'].value_counts()
        standard.append(count[0]), second.append(count[1]), first.append(count[2]), same.append(count[3])
        
        fig = go.Figure()
    fig.add_trace(go.Bar(x = cat_list,y = standard,name='Standard Class',marker_color='rgb(137,51,51)'
                        ))
    fig.add_trace(go.Bar(x = cat_list,y = second,name='Second Class',marker_color='rgb(234,84,84)'
                        ))
    fig.add_trace(go.Bar(x = cat_list,y = first,name='First Class',marker_color='rgb(250,127,78)'
                        ))
    fig.add_trace(go.Bar(x = cat_list,y = same,name='Same Day',marker_color='lightsalmon'
                        ))

    fig.update_layout(
        barmode ='group',
        width = 600,
        title = segment.upper(),
        yaxis = dict(title = 'Number of Deliveries'))
    fig.show()
Observations from the above given plot-
a) Standard class shipping is the most used shipping method across all consumer segments and product categories.

b) Across all three consumer segments, office supplies are the most bought products, and the technology items are the least bought products.

Now, let's consider how much loss each shipping category bears.

df['loss'] = df.Profit.apply(lambda x: x if (x < 0) else 0)

fig = px.bar( df,x = 'Ship Mode', y = 'loss', title = 'Losses in Each Shipping Category'.upper(), 
                    color = 'Ship Mode', hover_data=['loss', 'Sub-Category'])
fig.update_layout(
        autosize = True,
        width = 800,
        yaxis = dict(title='Total Loss'),
        xaxis = dict(title='Shipping Class'),
    )
fig.show()
Observations from the plot above-
(i) The highest loss beared by the company was while delivering products via the standard class shipping. This is of no surprise, since most products were delivered using standard shipping. However, one important thing to be noted is that some of the biggest losses beared by the superstore also fall under the standard shipping category, one going as high as $6,600 in a single sale.

(ii) First and second class shipping have almost equal losses. This is also no surprise since the number of sales shipped under each shipping category were also almost equal.

Apart from this information, it doesn't seem that shipping has a major effect on profits or losses as such.

Now, for the last part of EDA section, we will see how discounts affect the sale of products and the revenue generated by it.

df['whether_discount'] = df.Discount.apply(lambda x: 'No Discount' if (x == 0) else 'Discount')

discount_data = df.groupby(['whether_discount']).mean()

def discount_plotter(data_type = 'total'):
    """Plots discount data related plots.
    Args:
        data_type- 'total' or 'average', depending on you want the average statistics or total stats.
    """
    color = ['rgb(81,81,246)', 'rgb(209,70,70)']
    if data_type == 'average':
        discount_data = df.groupby(['whether_discount']).mean()
        fig = make_subplots(rows=1, cols=3, subplot_titles=('AVERAGE SALE', 'AVERAGE PROFIT/LOSS', 'AVERAGE PRICE PER PRODUCT'))
    else:
        discount_data = df.groupby(['whether_discount']).sum()
        fig = make_subplots(rows=1, cols=3, subplot_titles=('TOTAL SALE', 'TOTAL PROFIT/LOSS', 'TOTAL PRICE PER PRODUCT'))
    fig.add_trace(
        go.Bar(x = discount_data.index, y = discount_data.Sales, marker_color = color),
            row=1, col=1
    )
    
    fig.add_trace(
        go.Bar(x = discount_data.index, y = discount_data.Profit, marker_color = color),
            row=1, col=2
    )

    fig.add_trace(
        go.Bar(x = discount_data.index, y = discount_data.price_per_product, marker_color = color),
            row=1, col=3
    )
    fig.update_layout(showlegend=False)
    fig.show()
    
discount_plotter('average')
discount_plotter()
Observations from the above given plots-
A) Considering both average and total sales, it seems that people tend to buy more things when it is selling at a discounted price. An average sale at discounted price is of around USD 232 as compared to USD 226 on undiscounted price.

B) On an average, a discounted sale results in a loss of around USD 6 as compared to around USD 66 in profit on a non- discounted sale. Also, the company made a total profit of around USD 320K on non-discount sales, as compared to a loss of around USD 34K on discounted sales.

C) The average price of a discounted product is around USD 62, while the same is around USD 58 for a non-discounted item.

One thing to be noted is that while the superstore is incurring losses due to giving discounts on its products, they can't stop giving discounts of their products. Most of the heavy discounts are during festivals, end-of-season and clearance sales which are necessary so that the store can make space in their warehouses for fresh stock. Also, by incurring small losses, the company gains in the future by attracting more long term customers. Therefore, the small losses from discounts are an essential part of company's business.

 
